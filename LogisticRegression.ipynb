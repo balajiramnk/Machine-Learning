{
  "nbformat": 4,
  "nbformat_minor": 0,
  "metadata": {
    "colab": {
      "name": "LogisticRegression.ipynb",
      "provenance": []
    },
    "kernelspec": {
      "name": "python3",
      "display_name": "Python 3"
    },
    "language_info": {
      "name": "python"
    }
  },
  "cells": [
    {
      "cell_type": "code",
      "source": [
        "import numpy as np\n",
        "from matplotlib import pyplot as plt\n",
        "import pandas as pd\n",
        "from sklearn.model_selection import train_test_split\n",
        "from sklearn.metrics import accuracy_score"
      ],
      "metadata": {
        "id": "lZpWqywxXkxE"
      },
      "execution_count": 69,
      "outputs": []
    },
    {
      "cell_type": "code",
      "source": [
        "def sigmoid(z):\n",
        "  return 1/(1 + np.exp(-z))"
      ],
      "metadata": {
        "id": "CYa2oc3FXt4x"
      },
      "execution_count": 14,
      "outputs": []
    },
    {
      "cell_type": "code",
      "source": [
        "def init_params(n):\n",
        "  w = np.ones((n, 1))\n",
        "  b = 0\n",
        "  return w, b"
      ],
      "metadata": {
        "id": "dAgt7tQCYI8e"
      },
      "execution_count": 36,
      "outputs": []
    },
    {
      "cell_type": "code",
      "source": [
        "def score(X, y, w, b):\n",
        "  m = X.shape[1]\n",
        "  z = np.dot(w.T, X) + b\n",
        "  a = sigmoid(z)\n",
        "  y_hat = np.round(a)\n",
        "  return accuracy_score(y.T, y_hat.T)"
      ],
      "metadata": {
        "id": "bFVQ7TRoddBc"
      },
      "execution_count": 75,
      "outputs": []
    },
    {
      "cell_type": "code",
      "source": [
        "def model(X, y, testx, testy, epochs, learning_rate):\n",
        "  m = X.shape[1]\n",
        "  n = X.shape[0]\n",
        "  w, b = init_params(X.shape[0])\n",
        "  for i in range(epochs+1):\n",
        "    z = np.dot(w.T, X) + b\n",
        "    a = sigmoid(z)\n",
        "    assert(y.shape == (1, m))\n",
        "    assert(z.shape == (1, m))\n",
        "    assert(a.shape == (1, m))\n",
        "    cost = -(1/m) * np.sum((y * np.log(a)) + ((1 - y) * np.log(1 - a)))\n",
        "    if(i%1000 == 0):\n",
        "      print(\"cost at iteration\", i, \":\", cost)\n",
        "    da = -((y/a) + ((1 - y)/(1 - a)))\n",
        "    dz = (a * (1 - a)) * da\n",
        "    dw = (1/m) * np.dot(X, (a - y).T)\n",
        "    db = (1/m) * np.sum(a - y)\n",
        "    assert(dw.shape == (n, 1))\n",
        "    w -= (learning_rate * dw)\n",
        "    b -= (learning_rate * db)\n",
        "  train_accuracy = score(X, y, w, b)\n",
        "  test_accuracy = score(testx, testy, w, b)\n",
        "  print(\"Train Accuracy:\", train_accuracy)\n",
        "  print(\"Test Accuracy:\", test_accuracy)\n",
        "  log = {\"w\": w,\n",
        "         \"b\": b,\n",
        "         \"train_accuracy\": train_accuracy,\n",
        "         \"test_accuracy\": test_accuracy}\n",
        "  return log"
      ],
      "metadata": {
        "id": "LgbNh1tbX4tZ"
      },
      "execution_count": 81,
      "outputs": []
    },
    {
      "cell_type": "code",
      "source": [
        "df = pd.read_csv(\"/content/drive/MyDrive/Datasets/classification.csv\")"
      ],
      "metadata": {
        "id": "jUufvbVXf-Vk"
      },
      "execution_count": 6,
      "outputs": []
    },
    {
      "cell_type": "code",
      "source": [
        "X = df.drop(columns = \"success\").to_numpy()\n",
        "X = ((X - np.min(X, axis = 0))/(np.max(X, axis = 0) - np.min(X, axis = 0)))\n",
        "y = df[\"success\"].to_numpy()"
      ],
      "metadata": {
        "id": "w_5QYvpvhGpi"
      },
      "execution_count": 7,
      "outputs": []
    },
    {
      "cell_type": "code",
      "source": [
        "trainx, testx, trainy, testy = train_test_split(X, y, test_size = 0.2)"
      ],
      "metadata": {
        "id": "WeeYDPzbhH_8"
      },
      "execution_count": 8,
      "outputs": []
    },
    {
      "cell_type": "code",
      "source": [
        "trainx = trainx.T\n",
        "testx = testx.T\n",
        "trainy = trainy.reshape(1, -1)\n",
        "testy = testy.reshape(1, -1)"
      ],
      "metadata": {
        "id": "c9wl_Lw2h5st"
      },
      "execution_count": 9,
      "outputs": []
    },
    {
      "cell_type": "code",
      "source": [
        "l = []\n",
        "for i in range(y.shape[0]):\n",
        "  if(y[i] == 1): l.append(i)\n",
        "np_succ = X[l]\n",
        "np_fail = np.delete(X, l, 0)\n",
        "plt.scatter(np_succ[:, 0], np_succ[:, 1], color = \"blue\")\n",
        "plt.scatter(np_fail[:, 0], np_fail[:, 1], color = \"red\")\n",
        "plt.show()"
      ],
      "metadata": {
        "colab": {
          "base_uri": "https://localhost:8080/",
          "height": 265
        },
        "id": "YqcxqTcBiaKa",
        "outputId": "65708e94-17a3-46f4-f4fa-df87f87b4021"
      },
      "execution_count": 10,
      "outputs": [
        {
          "output_type": "display_data",
          "data": {
            "text/plain": [
              "<Figure size 432x288 with 1 Axes>"
            ],
            "image/png": "[encoded data removed]"
          },
          "metadata": {
            "needs_background": "light"
          }
        }
      ]
    },
    {
      "cell_type": "code",
      "source": [
        "log = model(trainx, trainy, testx, testy, 10000, 0.1)"
      ],
      "metadata": {
        "colab": {
          "base_uri": "https://localhost:8080/"
        },
        "id": "US5OM5Milztj",
        "outputId": "8641754b-5164-4926-d287-789f80b18d3b"
      },
      "execution_count": 82,
      "outputs": [
        {
          "output_type": "stream",
          "name": "stdout",
          "text": [
            "cost at iteration 0 : 0.6477703255717633\n",
            "cost at iteration 1000 : 0.4029220344674494\n",
            "cost at iteration 2000 : 0.34545246738431945\n",
            "cost at iteration 3000 : 0.3201182552691478\n",
            "cost at iteration 4000 : 0.306095864484133\n",
            "cost at iteration 5000 : 0.29727592602699615\n",
            "cost at iteration 6000 : 0.29126892952719374\n",
            "cost at iteration 7000 : 0.2869538146644844\n",
            "cost at iteration 8000 : 0.28373452427910023\n",
            "cost at iteration 9000 : 0.2812641844995754\n",
            "cost at iteration 10000 : 0.2793268607774059\n",
            "Train Accuracy: 0.8649789029535865\n",
            "Test Accuracy: 0.9166666666666666\n"
          ]
        }
      ]
    },
    {
      "cell_type": "code",
      "source": [
        "w = log[\"w\"]\n",
        "a = -w[0] / w[1]\n",
        "xx = np.linspace(0, 1)\n",
        "yy = a * xx - (log[\"b\"]) / w[1]\n",
        "\n",
        "plt.plot(xx, yy, 'k-')\n",
        "plt.scatter(np_succ[:, 0], np_succ[:, 1], color = \"blue\")\n",
        "plt.scatter(np_fail[:, 0], np_fail[:, 1], color = \"red\")\n",
        "plt.show()"
      ],
      "metadata": {
        "id": "m12ztQQtmtJ8",
        "colab": {
          "base_uri": "https://localhost:8080/",
          "height": 265
        },
        "outputId": "5a2665e2-5a1a-49e6-9696-40096b73a3bc"
      },
      "execution_count": 83,
      "outputs": [
        {
          "output_type": "display_data",
          "data": {
            "text/plain": [
              "<Figure size 432x288 with 1 Axes>"
            ],
            "image/png": "[encoded data removed]"
          },
          "metadata": {
            "needs_background": "light"
          }
        }
      ]
    }
  ]
}