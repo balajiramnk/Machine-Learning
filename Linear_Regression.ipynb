{
 "cells": [
  {
   "cell_type": "code",
   "execution_count": 9,
   "id": "bf9ff10e",
   "metadata": {},
   "outputs": [],
   "source": [
    "import numpy as np\n",
    "from matplotlib import pyplot as plt\n",
    "import pandas as pd\n",
    "from sklearn import preprocessing\n",
    "from sklearn.model_selection import train_test_split"
   ]
  },
  {
   "cell_type": "code",
   "execution_count": 24,
   "id": "ade847d4",
   "metadata": {},
   "outputs": [],
   "source": [
    "with open(\"data/LinRegData.csv\", \"r\") as file:\n",
    "    df = pd.read_csv(file)"
   ]
  },
  {
   "cell_type": "code",
   "execution_count": 25,
   "id": "9cdf10f2",
   "metadata": {},
   "outputs": [
    {
     "data": {
      "text/plain": [
       "<matplotlib.collections.PathCollection at 0x7f0e41f68e50>"
      ]
     },
     "execution_count": 25,
     "metadata": {},
     "output_type": "execute_result"
    },
    {
     "data": {
      "image/png": "[encoded data removed]",
      "text/plain": [
       "<Figure size 432x288 with 1 Axes>"
      ]
     },
     "metadata": {
      "needs_background": "light"
     },
     "output_type": "display_data"
    }
   ],
   "source": [
    "plt.scatter(df.x[:30], df.y[:30])"
   ]
  },
  {
   "cell_type": "code",
   "execution_count": 28,
   "id": "3c6ea7a5",
   "metadata": {},
   "outputs": [],
   "source": [
    "df = df.dropna()"
   ]
  },
  {
   "cell_type": "code",
   "execution_count": 29,
   "id": "3f7503df",
   "metadata": {},
   "outputs": [],
   "source": [
    "def model(x, y, learning_rate, epochs):\n",
    "    w, b = 0, 0\n",
    "    m = x.shape[1]\n",
    "    for i in range(epochs):\n",
    "        h = w * x + b\n",
    "        cost = (1/(2*m)) * np.sum((h - y) ** 2)\n",
    "        print(\"cost at iteration\", i, \":\", cost)\n",
    "        dw = (1/m) * np.sum((h - y) * x)\n",
    "        db = (1/m) * np.sum((h - y))\n",
    "        w = w - (learning_rate * dw)\n",
    "        b = b - (learning_rate * db)\n",
    "    return w, b"
   ]
  },
  {
   "cell_type": "code",
   "execution_count": 43,
   "id": "089f765a",
   "metadata": {},
   "outputs": [],
   "source": [
    "def score(x, y, w, b):\n",
    "    h = w * x + b\n",
    "    m = x.shape[1]\n",
    "    h_cost = (1/2*m) * np.sum((h - y) ** 2)\n",
    "    total_cost = (1/2*m) * np.sum((np.mean(y) - y) ** 2)\n",
    "    score = 1 - (h_cost/total_cost)\n",
    "    return score"
   ]
  },
  {
   "cell_type": "code",
   "execution_count": 31,
   "id": "c40922f5",
   "metadata": {},
   "outputs": [],
   "source": [
    "data = preprocessing.scale(df)\n",
    "trainx, testx, trainy, testy = train_test_split(data[:, 0], data[:, 1], test_size = 0.2)"
   ]
  },
  {
   "cell_type": "code",
   "execution_count": 32,
   "id": "95e1245e",
   "metadata": {},
   "outputs": [],
   "source": [
    "trainx = trainx.reshape(1, -1)\n",
    "trainy = trainy.reshape(1, -1)\n",
    "testx = testx.reshape(1, -1)\n",
    "testy = testy.reshape(1, -1)"
   ]
  },
  {
   "cell_type": "code",
   "execution_count": 33,
   "id": "69599a47",
   "metadata": {},
   "outputs": [
    {
     "name": "stdout",
     "output_type": "stream",
     "text": [
      "cost at iteration 0 : 0.516344510518816\n",
      "cost at iteration 1 : 0.004916330162327254\n",
      "cost at iteration 2 : 0.0045405564972009396\n",
      "cost at iteration 3 : 0.004540267352985645\n",
      "cost at iteration 4 : 0.004540267130475722\n",
      "cost at iteration 5 : 0.00454026713030449\n",
      "cost at iteration 6 : 0.004540267130304359\n",
      "cost at iteration 7 : 0.004540267130304358\n",
      "cost at iteration 8 : 0.004540267130304358\n",
      "cost at iteration 9 : 0.004540267130304358\n"
     ]
    }
   ],
   "source": [
    "w, b = model(trainx, trainy, 1, 10)"
   ]
  },
  {
   "cell_type": "code",
   "execution_count": 44,
   "id": "14421729",
   "metadata": {},
   "outputs": [
    {
     "name": "stdout",
     "output_type": "stream",
     "text": [
      "0.9882066320408333\n"
     ]
    }
   ],
   "source": [
    "print(score(testx, testy, w, b))"
   ]
  },
  {
   "cell_type": "code",
   "execution_count": 42,
   "id": "986dd4d4",
   "metadata": {},
   "outputs": [
    {
     "data": {
      "image/png": "[encoded data removed]",
      "text/plain": [
       "<Figure size 432x288 with 1 Axes>"
      ]
     },
     "metadata": {
      "needs_background": "light"
     },
     "output_type": "display_data"
    }
   ],
   "source": [
    "plt.scatter(testx[:, :30], testy[:, :30])\n",
    "plt.plot([-2, 2], [w*-2+b, w*2+b], color = 'orange', linewidth = 2)\n",
    "plt.show()"
   ]
  }
 ],
 "metadata": {
  "kernelspec": {
   "display_name": "Python 3 (ipykernel)",
   "language": "python",
   "name": "python3"
  },
  "language_info": {
   "codemirror_mode": {
    "name": "ipython",
    "version": 3
   },
   "file_extension": ".py",
   "mimetype": "text/x-python",
   "name": "python",
   "nbconvert_exporter": "python",
   "pygments_lexer": "ipython3",
   "version": "3.8.10"
  }
 },
 "nbformat": 4,
 "nbformat_minor": 5
}
